{
 "cells": [
  {
   "cell_type": "markdown",
   "metadata": {},
   "source": [
    "# Control de versiones y Git\n",
    "\n",
    "<table> \n",
    "    <tr>\n",
    "        <td>\n",
    "<img src=\"1.jpeg\" width=\"250\">\n",
    "        </td>\n",
    "        <td>\n",
    "<img src=\"2.jpeg\" width=\"300\">\n",
    "        </td>\n",
    "        </table>"
   ]
  },
  {
   "cell_type": "markdown",
   "metadata": {},
   "source": [
    "Los sistemas de control de versiones son programas diseñados para llevar el control y registro de los cambios que se hacen en una colección de datos, usualmente archivos en un filesystem. Permiten revisar el historial de cambios, revertir a una versión anterior y facilitan la colaboración, al proveer mecanismos para detección y resolución de conflictos cuando varios usuarios hacen cambios de manera concurrente. \n",
    "\n",
    "Son una herramienta muy útil usada por equipos de desarrollo y personas individuales en todo el mundo, y es porque llevar manualmente el control de cambios sobre un proyecto es demasiado impráctico, tedioso y muy susceptible a errores. Prácticamente cualquier proyecto de software no trivial se beneficia al usar un sistema de control de versiones, especialmente si se utiliza un servidor remoto para alojar el proyecto, pues entonces también se cuenta con un backup del proyecto con su historial de cambios.\n",
    "\n",
    "Git es el sistema de control de versiones más popular cuando se trata de llevar el control de cambios en código fuente y documentos de texto. GitHub es una plataforma de alojamiento de repositorios de git, que permite compartir código con todo el mundo o solo quienes el dueño del código quiera compartirlo. Allí, una gran parte de todos los proyectos open source en el mundo están disponibles para todos.\n",
    "\n",
    "Aunque aprender lo básico de git es bastante sencillo, en realidad hay un gran número de funcionalidades y comandos soportados, para muchos casos de uso particulares. Realmente vale la pena aprender más a profundidad de todo lo que se puede hacer con git y también cómo está implementado internamente. Esos son temas que realmente se salen del alcance de esta humilde tarea, y cualquiera puede ir a leer la documentación, que es bastante buena, pero aprovecharé para mencionar un comando de git que siempre resulta útil:\n",
    "\n",
    "A veces existe la necesidad de trabajar o ver más de un branch del mismo repositorio al mismo tiempo. La solución inocente sería clonar el repositorio n veces, o hacer n copias locales del mismo, pero existe un comando de git que nos permite hacer exactamente esto sin realizar ninguna copia innecesaria: git-worktree.\n",
    "\n",
    "Básicamente, nosotros podemos proveerle a git-worktree una ruta en el filesystem y un branch, commit id o nombre de nuevo branch y git hará checkout de lo que especificamos la ruta que escogimos. Un ejemplo de caso de uso de la documentación:\n",
    "\n",
    "```\n",
    "$ git worktree add -b emergency-fix ../temp master\n",
    "$ pushd ../temp\n",
    "# ... hack hack hack ...\n",
    "$ git commit -a -m 'emergency fix for boss'\n",
    "$ popd\n",
    "$ git worktree remove ../temp\n",
    "```\n",
    "\n",
    "Y una sinopsis de todas las opciones que soporta:\n",
    "\n",
    "```\n",
    "git worktree add [-f] [--detach] [--checkout] [--lock] [-b <new-branch>] <path> [<commit-ish>]\n",
    "git worktree list [--porcelain]\n",
    "git worktree lock [--reason <string>] <worktree>\n",
    "git worktree move <worktree> <new-path>\n",
    "git worktree prune [-n] [-v] [--expire <expire>]\n",
    "git worktree remove [-f] <worktree>\n",
    "git worktree unlock <worktree>\n",
    "```\n",
    "\n",
    "La documentación completa se encuentra en: https://git-scm.com/docs/git-worktree\n",
    "\n",
    "En conclusión, se recomienda que quienes no tengan experiencia con git aprendan por lo menos lo básico si trabajan de alguna u otra forma en tecnología o editando archivos importantes. Si alguien ya conoce lo básico, nunca está de más aprender un poco más porque puede ahorrar mucho tiempo \n"
   ]
  }
 ],
 "metadata": {
  "kernelspec": {
   "display_name": "Python 3",
   "language": "python",
   "name": "python3"
  },
  "language_info": {
   "codemirror_mode": {
    "name": "ipython",
    "version": 3
   },
   "file_extension": ".py",
   "mimetype": "text/x-python",
   "name": "python",
   "nbconvert_exporter": "python",
   "pygments_lexer": "ipython3",
   "version": "3.7.6"
  }
 },
 "nbformat": 4,
 "nbformat_minor": 2
}
