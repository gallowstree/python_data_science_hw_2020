{
 "cells": [
  {
   "cell_type": "markdown",
   "metadata": {},
   "source": [
    "# Tarea 3\n",
    "\n",
    "## Funciones en Python\n",
    "\n",
    "Las funciones son uno de los conceptos más básicos de Python. Ellas nos permiten agrupar instrucciones relacionadas en un bloque de código y darles un nombre por el cual referirnos a ellas, para luego ejecutarlas. Las funciones tienen muchas ventajas:\n",
    "\n",
    "#### Reutilización de código\n",
    "* Podemos usar funciones para definir una manera de realizar un cálculo o una acción específica y llamarla desde varios lugares en nuestro programa\n",
    "* Podemos abstraer tareas que repiten esencialmente el mismo proceso sobre datos diferentes, por medio de lo que se conoce como \"parámetros\" o \"argumentos\" de una función. Estos consisten en valores que pueden ser pasados a una función y funcionarán como variables dentro de la ejecución de la función, cada vez tomando los valores que el código que ha invocado a nuestra función haya pasado como parámetros.\n",
    "* Python y sus librerías proveen muchas funciones de propósito general para realizar tareas útiles en nuestros programas. Si no existieran, tendríamos que reinventar la rueda cada vez que quisiéramos hacer algo simple en nuestro código. De esta forma vemos que las funciones sirven para compartir y reusar soluciones a problemas que ya se han resuelto antes.\n",
    "    \n",
    "#### Código más legible, mantenible y mejor organizado\n",
    "* Al darles un nombre descriptivo a nuestras funciones, podemos tener código auto-documentado que explica qué hace y se vuelve más fácil de leer y entender.\n",
    "* Las funciones proveen encapsulamiento: muchas veces no necesitamos saber (o no nos importa) cómo está implementada una función para poder usarla. Definir funciones permite abstraer detalles de implementación, simplificando las cosas.\n",
    "    \n",
    "A continuación un ejemplo sencillo de una función definida en python.\n"
   ]
  },
  {
   "cell_type": "code",
   "execution_count": 2,
   "metadata": {},
   "outputs": [],
   "source": [
    "def saludar():\n",
    "    print(\"---------------\")\n",
    "    print(\"|    Hola!    |\")\n",
    "    print(\"---------------\")\n",
    "    "
   ]
  },
  {
   "cell_type": "code",
   "execution_count": 4,
   "metadata": {},
   "outputs": [
    {
     "name": "stdout",
     "output_type": "stream",
     "text": [
      "---------------\n",
      "|    Hola!    |\n",
      "---------------\n",
      "---------------\n",
      "|    Hola!    |\n",
      "---------------\n"
     ]
    }
   ],
   "source": [
    "# invocamos a la funcion saludar dos veces:\n",
    "saludar()\n",
    "saludar()"
   ]
  },
  {
   "cell_type": "markdown",
   "metadata": {},
   "source": [
    "Una función puede o no retornar un valor al código que la ha llamado. Por ejemplo, las funciones que calculan o generan un valor lo devuelven al terminar su ejecución. No todas las funciones retornan algo, por ejemplo la función `saludar` definida arriba simplemente realiza una acción que no genera ningún valor útil para el código que la ha llamado.\n",
    "\n",
    "El siguiente ejemplo muestra una función que recibe como argumento un número y lo incrementa. Utiliza la palabra reservada `return` para devolver su valor de retorno."
   ]
  },
  {
   "cell_type": "code",
   "execution_count": 6,
   "metadata": {},
   "outputs": [],
   "source": [
    "def incrementar(num):\n",
    "        return num + 1"
   ]
  },
  {
   "cell_type": "code",
   "execution_count": 8,
   "metadata": {},
   "outputs": [
    {
     "name": "stdout",
     "output_type": "stream",
     "text": [
      "9\n",
      "111\n"
     ]
    }
   ],
   "source": [
    "# imprimimos el resultado de invocar a la función incrementar con diferentes argumentos \n",
    "print(incrementar(8))\n",
    "print(incrementar(110))"
   ]
  },
  {
   "cell_type": "code",
   "execution_count": 12,
   "metadata": {},
   "outputs": [
    {
     "data": {
      "text/plain": [
       "5.0"
      ]
     },
     "execution_count": 12,
     "metadata": {},
     "output_type": "execute_result"
    }
   ],
   "source": [
    "import math\n",
    "\n",
    "# una función puede recibir más de un argumento\n",
    "def pitagoras(a, b):\n",
    "    return math.sqrt(a**2 + b**2)\n",
    "\n",
    "pitagoras(3,4)"
   ]
  },
  {
   "cell_type": "markdown",
   "metadata": {},
   "source": [
    "## Parámetros Posicionales\n",
    "\n",
    "Al llamar a una función, podemos pasarle los argumentos en el orden en el que están especificados en la definición de la función. Es decir, los valores que pasamos son asignados a los argumentos de la función según su posición en la llamada:"
   ]
  },
  {
   "cell_type": "code",
   "execution_count": 15,
   "metadata": {},
   "outputs": [
    {
     "name": "stdout",
     "output_type": "stream",
     "text": [
      "(8+i9)\n",
      "(9+i8)\n"
     ]
    }
   ],
   "source": [
    "def format_complex(real, imaginary):\n",
    "    return \"(\" + str(real) + \"+i\" + str(imaginary) + \")\"\n",
    "\n",
    "# el orden de los parámetros afecta el resultado que obtenemos:\n",
    "\n",
    "print(format_complex(8, 9))\n",
    "print(format_complex(9, 8))"
   ]
  },
  {
   "cell_type": "markdown",
   "metadata": {},
   "source": [
    "También podemos pasar un iterable precedido por `*` para aplicar la función a los argumentos en el orden que tienen en el iterable "
   ]
  },
  {
   "cell_type": "code",
   "execution_count": 17,
   "metadata": {},
   "outputs": [
    {
     "name": "stdout",
     "output_type": "stream",
     "text": [
      "(3+i5)\n",
      "(5+i3)\n",
      "(8+i9)\n",
      "(9+i8)\n"
     ]
    }
   ],
   "source": [
    "argumentos1 = (3, 5)\n",
    "argumentos2 = (5, 3)\n",
    "argumentos3 = [8, 9]\n",
    "\n",
    "print(format_complex(*argumentos1))\n",
    "print(format_complex(*argumentos2))\n",
    "print(format_complex(*argumentos3))\n",
    "print(format_complex(*[9, 8]))"
   ]
  },
  {
   "cell_type": "markdown",
   "metadata": {},
   "source": [
    "## Parámetros nombrados\n",
    "\n",
    "Otra forma de pasar los argumentos a una función es por medio de su nombre, de manera que el orden no importe"
   ]
  },
  {
   "cell_type": "code",
   "execution_count": 18,
   "metadata": {},
   "outputs": [
    {
     "name": "stdout",
     "output_type": "stream",
     "text": [
      "(6+i5)\n"
     ]
    }
   ],
   "source": [
    "print(format_complex(imaginary=5, real=6))\n"
   ]
  },
  {
   "cell_type": "markdown",
   "metadata": {},
   "source": [
    "También, de forma similar a usar iterables para pasar argumentos posicionales, podemos usar un diccionario para pasar parámetros por nombre"
   ]
  },
  {
   "cell_type": "code",
   "execution_count": 23,
   "metadata": {},
   "outputs": [
    {
     "name": "stdout",
     "output_type": "stream",
     "text": [
      "(5+i8)\n"
     ]
    }
   ],
   "source": [
    "argumentos = {'imaginary': 8, 'real': 5}\n",
    "print(format_complex(**argumentos))"
   ]
  },
  {
   "cell_type": "markdown",
   "metadata": {},
   "source": [
    "## Retorno de múltiples valores\n",
    "\n",
    "Si queremos retornar más de un valor de una función, tenemos varias opciones.\n",
    "\n",
    "* Para pocos valores, una tupla puede ser muy efectiva\n",
    "```python\n",
    "#### tuplas\n",
    "def f(x):\n",
    "    y0 = x + 1\n",
    "    y1 = x * 3\n",
    "    y2 = y0 ** y3\n",
    "    return (y0, y1, y2)\n",
    "```\n",
    "* Un diccionario nos permite retornar varios valores con su respectivo nombre\n",
    "\n",
    "```python\n",
    "#### diccionario\n",
    "def g(x):\n",
    "  y0 = x + 1\n",
    "  y1 = x * 3\n",
    "  y2 = y0 ** y3\n",
    "  return {'y0': y0, 'y1': y1 ,'y2': y2}\n",
    "\n",
    "```\n",
    "* Otra opción es crear una clase cuyos campos representan los múltiples valores\n",
    "\n",
    "```python\n",
    "#### clase\n",
    "class ReturnValue:\n",
    "  def __init__(self, y0, y1, y2):\n",
    "     self.y0 = y0\n",
    "     self.y1 = y1\n",
    "     self.y2 = y2\n",
    "\n",
    "def g(x):\n",
    "  y0 = x + 1\n",
    "  y1 = x * 3\n",
    "  y2 = y0 ** y3\n",
    "  return ReturnValue(y0, y1, y2)\n",
    "```\n",
    "* Si los valores son homogéneos y/o su cantidad es variable, una lista podría funcionar bien\n",
    "```python\n",
    "def h(x):\n",
    "    return [x + 1, x * 3, x ** 2]\n",
    "```\n",
    "* Python 2.6 introdujo el concepto de \"Named Tuples\" y Python 3.6 las mejoró\n",
    "\n",
    "```python\n",
    "#### NamedTuple en python 2.6\n",
    "import collections\n",
    "Point = collections.namedtuple('Point', ['x', 'y'])\n",
    "p = Point(1, y=2)\n",
    "\n",
    "#### NamedTuple en python 3.6\n",
    "class Employee(NamedTuple):  # heredar de typing.NamedTuple\n",
    "    name: str\n",
    "    id: int = 3  # valor default\n",
    "\n",
    "employee = Employee('Guido')\n",
    "```"
   ]
  },
  {
   "cell_type": "markdown",
   "metadata": {},
   "source": [
    "## Funciones como first-class objects y lambdas\n",
    "\n",
    "Las funciones en python son \"first-class objects\" lo cual significa que podemos tratarlas como a otros valores: pueden asignarse a variables, pasarse como argumento a otras funciones, almacenarse en estructuras de datos y retornarse como salida de otra función. Esto es algo muy poderoso ya que nos permite otro nivel de abstracción que puede simplificar el diseño de algunos programas y tiene el beneficio de que, aunque python no sea un lenguaje funcional, nos permite aplicar aunque sea un poco de programación funcional y aprovechar sus ventajas.\n",
    "\n",
    "A continuación, demostramos con un ejemplo sencillo algunas manipulaciones posibles con funciones como first-class objects. \n"
   ]
  },
  {
   "cell_type": "code",
   "execution_count": 28,
   "metadata": {},
   "outputs": [],
   "source": [
    "def f(x):\n",
    "    return x*2\n",
    "\n",
    "def f_inversa(x):\n",
    "    return x/2\n",
    "\n",
    "def composicion(f, g, x):\n",
    "    return g(f(x))\n",
    "\n",
    "x = 50\n",
    "assert composicion(f, f_inversa, x) == x"
   ]
  },
  {
   "cell_type": "markdown",
   "metadata": {},
   "source": [
    "¿Qué tal si tenemos varias funciones las cuales deseamos cronometrar? Podríamos copiar y pegar código para cronometrarlas dentro de cada una de ellas, pero también podemos definir una función que cronometra funciones y llamarla cuando deseemos medir el tiempo de ejecución de una función. De esta forma, las funciones se mantienen \"puras\" y cuando no deseemos cronometrarlas, las podemos llamar sin cronometrarlas."
   ]
  },
  {
   "cell_type": "code",
   "execution_count": 31,
   "metadata": {},
   "outputs": [
    {
     "name": "stdout",
     "output_type": "stream",
     "text": [
      "la ejecución duró 0.5226068496704102 segundos y el resultado fue: 50000005000000\n"
     ]
    }
   ],
   "source": [
    "import time\n",
    "\n",
    "def cronometrar_funcion(f):\n",
    "    inicio = time.time()\n",
    "    resultado = f()\n",
    "    tiempo = time.time() - inicio\n",
    "    \n",
    "    return (resultado, tiempo)\n",
    "\n",
    "def algo_tardado():\n",
    "    s = 0\n",
    "    for i in range(1, 10000000 + 1):\n",
    "        s+= i\n",
    "    return s\n",
    "\n",
    "\n",
    "resultado, tiempo = cronometrar_funcion(algo_tardado)\n",
    "\n",
    "print(\"la ejecución duró \" + str(tiempo) + \" segundos y el resultado fue: \" + str(resultado))"
   ]
  },
  {
   "cell_type": "markdown",
   "metadata": {},
   "source": [
    "#### Lambdas o funciones anónimas\n",
    "\n",
    "La función del ejemplo anterior funciona bien para funciones sin parámetros, pero ¿qué tal si queremos medir funciones con parámetros también? Una opción sería aplicar lo que aprendimos anteriormente y pasar un iterable con los argumentos de la función:\n",
    "\n"
   ]
  },
  {
   "cell_type": "code",
   "execution_count": 32,
   "metadata": {},
   "outputs": [
    {
     "name": "stdout",
     "output_type": "stream",
     "text": [
      "segundos transcurridos: 5.245208740234375e-06\n",
      "resultado 50000005000000\n"
     ]
    }
   ],
   "source": [
    "def cron(f, args=[]):\n",
    "    inicio = time.time()\n",
    "    res = f(*args)\n",
    "    tiempo = time.time() - inicio\n",
    "    print(\"segundos transcurridos: \" + str(tiempo))\n",
    "    print(\"resultado \" + str(res))\n",
    "\n",
    "def s_n(n):\n",
    "    return int(n * (n+1) / 2)\n",
    "\n",
    "cron(s_n, [10000000])"
   ]
  },
  {
   "cell_type": "markdown",
   "metadata": {},
   "source": [
    "Pero también podríamos tomar ventaja de los lambdas o funciones anónimas. Estas son funciones de una línea que definimos en su lugar de uso, en lugar de darles un nombre y bloque de código como a las funciones normales. Por ejemplo una función anónima que suma sus argumentos se vería así:\n",
    "```python\n",
    "lambda a,b: a + b\n",
    "```\n",
    " \n",
    "Podemos usar un lambda para crear una función que llamará a la función original con los argumentos que querramos:"
   ]
  },
  {
   "cell_type": "code",
   "execution_count": 34,
   "metadata": {},
   "outputs": [
    {
     "name": "stdout",
     "output_type": "stream",
     "text": [
      "la ejecución duró 8.106231689453125e-06 segundos y el resultado fue: 50000005000000\n"
     ]
    }
   ],
   "source": [
    "resultado, tiempo = cronometrar_funcion(lambda: s_n(10000000))\n",
    "\n",
    "print(\"la ejecución duró \" + str(tiempo) + \" segundos y el resultado fue: \" + str(resultado))"
   ]
  },
  {
   "cell_type": "markdown",
   "metadata": {},
   "source": [
    "Otro uso muy coomún de las funciones anónimas es el aplicar una función a cada elemento de una lista, a través de la función `map`:\n"
   ]
  },
  {
   "cell_type": "code",
   "execution_count": 37,
   "metadata": {},
   "outputs": [
    {
     "name": "stdout",
     "output_type": "stream",
     "text": [
      "[1, 4, 9, 16, 25]\n"
     ]
    }
   ],
   "source": [
    "numeros = [1,2,3,4,5]\n",
    "\n",
    "cuadrados = list(map(lambda x: x**2, numeros))\n",
    "\n",
    "print(cuadrados)"
   ]
  },
  {
   "cell_type": "code",
   "execution_count": null,
   "metadata": {},
   "outputs": [],
   "source": []
  }
 ],
 "metadata": {
  "kernelspec": {
   "display_name": "Python 3",
   "language": "python",
   "name": "python3"
  },
  "language_info": {
   "codemirror_mode": {
    "name": "ipython",
    "version": 3
   },
   "file_extension": ".py",
   "mimetype": "text/x-python",
   "name": "python",
   "nbconvert_exporter": "python",
   "pygments_lexer": "ipython3",
   "version": "3.7.6"
  }
 },
 "nbformat": 4,
 "nbformat_minor": 4
}
