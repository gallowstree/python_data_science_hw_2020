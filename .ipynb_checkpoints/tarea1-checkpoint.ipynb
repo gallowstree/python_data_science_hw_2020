{
 "cells": [
  {
   "cell_type": "markdown",
   "metadata": {},
   "source": [
    "# Control de versiones y Git\n",
    "\n",
    "<table> \n",
    "    <tr>\n",
    "        <td>\n",
    "<img src=\"1.jpeg\" width=\"250\">\n",
    "        </td>\n",
    "        <td>\n",
    "<img src=\"2.jpeg\" width=\"300\">\n",
    "        </td>\n",
    "        </table>"
   ]
  },
  {
   "cell_type": "markdown",
   "metadata": {},
   "source": [
    "Los sistemas de control de versiones son programas diseñados para llevar el control y registro de los cambios que se hacen en un sistema de archivos. "
   ]
  }
 ],
 "metadata": {
  "kernelspec": {
   "display_name": "Python 3",
   "language": "python",
   "name": "python3"
  },
  "language_info": {
   "codemirror_mode": {
    "name": "ipython",
    "version": 3
   },
   "file_extension": ".py",
   "mimetype": "text/x-python",
   "name": "python",
   "nbconvert_exporter": "python",
   "pygments_lexer": "ipython3",
   "version": "3.7.6"
  }
 },
 "nbformat": 4,
 "nbformat_minor": 2
}
